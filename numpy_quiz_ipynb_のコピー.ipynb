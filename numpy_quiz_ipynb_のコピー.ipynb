{
  "nbformat": 4,
  "nbformat_minor": 0,
  "metadata": {
    "kernelspec": {
      "display_name": "Python 3",
      "language": "python",
      "name": "python3"
    },
    "language_info": {
      "codemirror_mode": {
        "name": "ipython",
        "version": 3
      },
      "file_extension": ".py",
      "mimetype": "text/x-python",
      "name": "python",
      "nbconvert_exporter": "python",
      "pygments_lexer": "ipython3",
      "version": "3.7.4"
    },
    "colab": {
      "provenance": [],
      "include_colab_link": true
    }
  },
  "cells": [
    {
      "cell_type": "markdown",
      "metadata": {
        "id": "view-in-github",
        "colab_type": "text"
      },
      "source": [
        "<a href=\"https://colab.research.google.com/github/ekikan/Basic-Python/blob/numpy/numpy_quiz_ipynb_%E3%81%AE%E3%82%B3%E3%83%94%E3%83%BC.ipynb\" target=\"_parent\"><img src=\"https://colab.research.google.com/assets/colab-badge.svg\" alt=\"Open In Colab\"/></a>"
      ]
    },
    {
      "cell_type": "markdown",
      "metadata": {
        "id": "6kB4QGKLeIzL"
      },
      "source": [
        "# Numpyの確認課題"
      ]
    },
    {
      "cell_type": "markdown",
      "metadata": {
        "id": "sEP7aksheIzO"
      },
      "source": [
        "## 必要モジュールのインポート\n",
        "\n",
        "この問題で使うモジュールをインポートします．"
      ]
    },
    {
      "cell_type": "code",
      "metadata": {
        "id": "I6jCYUepeIzP"
      },
      "source": [
        "import matplotlib.pyplot as plt\n",
        "import numpy as np\n",
        "\n",
        "np.random.seed(0)"
      ],
      "execution_count": 40,
      "outputs": []
    },
    {
      "cell_type": "markdown",
      "metadata": {
        "id": "jj1GAuS8eIzQ"
      },
      "source": [
        "---"
      ]
    },
    {
      "cell_type": "markdown",
      "metadata": {
        "id": "oyOPxfX5eIzQ"
      },
      "source": [
        "### 問1. `ndarray`の生成\n",
        "\n",
        "以下の2つの`ndarray`を定義しなさい．\n",
        "- 観測値 `x`: 初項`0`，末項`5`，項数`100`の等差数列\n",
        "- ノイズ `noise`: 標準正規分布に従う`100`個の乱数"
      ]
    },
    {
      "cell_type": "code",
      "metadata": {
        "id": "IzWE5AFWeIzR"
      },
      "source": [
        "x = np.arange(0,5,5/100)\n",
        "noise=np.random.randn(100)"
      ],
      "execution_count": 41,
      "outputs": []
    },
    {
      "cell_type": "markdown",
      "metadata": {
        "id": "XhdJo1x9eIzR"
      },
      "source": [
        "---"
      ]
    },
    {
      "cell_type": "markdown",
      "metadata": {
        "id": "OVCDLbNTeIzR"
      },
      "source": [
        "ここで，真の関数 $y(x) = 3 - 5x + x^2$ を定義します．"
      ]
    },
    {
      "cell_type": "code",
      "metadata": {
        "id": "8kXxx5uNeIzS"
      },
      "source": [
        "def y(x):\n",
        "    \"\"\"真の関数\"\"\"\n",
        "    return 3 - 5 * x + x ** 2"
      ],
      "execution_count": 42,
      "outputs": []
    },
    {
      "cell_type": "markdown",
      "metadata": {
        "id": "eWMGO0rpeI0W"
      },
      "source": [
        "### 問2． `ndarray`の操作\n",
        "\n",
        "問1で生成した観測値 `x` に対応する目標値 `t` を定義しなさい．\n",
        "\n",
        "目標値 $t$ は， $t = y(x) + \\epsilon$ と表されます．  ( $y$: 真の関数, $\\epsilon$: ノイズ )  \n",
        "実際の観測値にはどうしてもノイズ(観測誤差)が発生してしまいます．今回は，それを`noise`で再現します．\n",
        "\n",
        "問1で観測値を100個生成したので，それぞれに対応する目標値も100個作成する必要がありますが， `for` 文は絶対使ってはいけません．"
      ]
    },
    {
      "cell_type": "code",
      "metadata": {
        "id": "_XEkh2uneI0W",
        "colab": {
          "base_uri": "https://localhost:8080/"
        },
        "outputId": "e511e073-a139-4307-a70b-8a0c9e78791a"
      },
      "source": [
        "t = y(x)+noise\n",
        "print(t)"
      ],
      "execution_count": 51,
      "outputs": [
        {
          "output_type": "stream",
          "name": "stdout",
          "text": [
            "[ 4.76405235  3.15265721  3.48873798  4.5133932   3.90755799  0.83522212\n",
            "  2.54008842  1.22114279  1.05678115  1.3630985   0.89404357  2.00677351\n",
            "  1.12103773  0.29417502  0.43386323  0.14617433  1.13407907 -0.73265826\n",
            " -0.3769323  -1.70159574 -3.55298982 -0.4938814  -0.4255638  -2.16966502\n",
            "  0.70975462 -3.14186567 -1.76424148 -2.11468385 -0.50722079 -0.67814123\n",
            " -2.09505257 -1.96933748 -3.32778575 -4.50829647 -2.95791215 -2.53115103\n",
            " -1.52970932 -1.62512015 -3.27732682 -3.24980275 -4.04855297 -4.46751794\n",
            " -4.79627019 -1.1767246  -3.66965218 -3.6255743  -4.46279536 -2.45000964\n",
            " -4.85389785 -3.46024028 -4.14546656 -2.8605975  -3.75080514 -4.40813218\n",
            " -3.23818223 -2.75916813 -3.09348278 -2.8250281  -3.72432209 -3.41024117\n",
            " -3.67246045 -3.30705316 -3.70314628 -4.5537826  -2.58257386 -3.08928094\n",
            " -4.24019835 -2.06471774 -3.34729836 -2.2955546  -1.52090944 -2.01851709\n",
            " -0.90059932 -3.16232582 -1.40765836 -2.37231009 -2.43079715 -2.00634966\n",
            " -1.60155253 -1.09133466 -2.16514984  0.05332649 -0.22433756 -2.06374369\n",
            "  1.12825219  1.70838918  1.16877957 -0.00742484 -0.71075262  1.60695173\n",
            "  0.34682305  2.17494507  1.36827498  2.34913904  1.9463664   2.51907317\n",
            "  2.05050002  4.05837049  2.63691209  3.15448936]\n"
          ]
        }
      ]
    },
    {
      "cell_type": "markdown",
      "metadata": {
        "id": "wSTjE9ldeI0Y"
      },
      "source": [
        "matplotlib で可視化すると以下のようなグラフになります．\n",
        "scatter → 散布図"
      ]
    },
    {
      "cell_type": "code",
      "metadata": {
        "id": "t3-ETQUveI0Y",
        "colab": {
          "base_uri": "https://localhost:8080/",
          "height": 283
        },
        "outputId": "9d4b00e2-5e64-4e71-b185-9e6967fd2cb6"
      },
      "source": [
        "plt.scatter(x, t)"
      ],
      "execution_count": 44,
      "outputs": [
        {
          "output_type": "execute_result",
          "data": {
            "text/plain": [
              "<matplotlib.collections.PathCollection at 0x7f6106351220>"
            ]
          },
          "metadata": {},
          "execution_count": 44
        },
        {
          "output_type": "display_data",
          "data": {
            "text/plain": [
              "<Figure size 432x288 with 1 Axes>"
            ],
            "image/png": "[encoded data removed]"
          },
          "metadata": {
            "needs_background": "light"
          }
        }
      ]
    },
    {
      "cell_type": "markdown",
      "metadata": {
        "id": "uek1MdmceI0Y"
      },
      "source": [
        "---"
      ]
    },
    {
      "cell_type": "markdown",
      "metadata": {
        "id": "Rk0GlsHreI0Z"
      },
      "source": [
        "### 問3. `ndarray`の結合\n",
        "\n",
        "以下の3つの`ndarray`を垂直方向に結合した2次元配列を転置した行列 `X` を定義しなさい．\n",
        "\n",
        "- x0: 長さが `x` と同じで要素が全て1の`ndarray`\n",
        "- x1: 観測値 `x` の各要素を1乗した`ndarray`\n",
        "- x2: 観測値 `x` の各要素を2乗した`ndarray`\n",
        "\n",
        "例： $x = (1, 2, 3)$ のとき，\n",
        "\n",
        "$$\n",
        "x_0 = (1, 1, 1)\\\\\n",
        "x_1 = (1, 2, 3)\\\\\n",
        "x_2 = (1, 4, 9)\n",
        "$$\n",
        "\n",
        "だから，\n",
        "\n",
        "$$\n",
        "X = \\left(\n",
        "\\begin{array}{ccc}\n",
        "    1 & 1 & 1 \\\\\n",
        "    1 & 2 & 3 \\\\\n",
        "    1 & 4 & 9\n",
        "\\end{array}\n",
        "\\right)^T\n",
        "= \\left(\n",
        "\\begin{array}{ccc}\n",
        "    1 & 1 & 1 \\\\\n",
        "    1 & 2 & 4 \\\\\n",
        "    1 & 3 & 9\n",
        "\\end{array}\n",
        "\\right)\n",
        "$$\n",
        "\n",
        "ちなみに，機械学習では `X` のような行列を計画行列と呼びます．"
      ]
    },
    {
      "cell_type": "code",
      "metadata": {
        "id": "ad25j6rweI0Z",
        "colab": {
          "base_uri": "https://localhost:8080/"
        },
        "outputId": "95a245de-516e-4052-e023-7472ad17b251"
      },
      "source": [
        "x0 = np.ones(len(x))\n",
        "x1 = x\n",
        "x2 = x ** 2\n",
        "X = np.vstack([x0, x1, x2]).T\n",
        "X_T=np.vstack([x0, x1, x2])\n",
        "print(X)"
      ],
      "execution_count": 45,
      "outputs": [
        {
          "output_type": "stream",
          "name": "stdout",
          "text": [
            "[[1.00000e+00 0.00000e+00 0.00000e+00]\n",
            " [1.00000e+00 5.00000e-02 2.50000e-03]\n",
            " [1.00000e+00 1.00000e-01 1.00000e-02]\n",
            " [1.00000e+00 1.50000e-01 2.25000e-02]\n",
            " [1.00000e+00 2.00000e-01 4.00000e-02]\n",
            " [1.00000e+00 2.50000e-01 6.25000e-02]\n",
            " [1.00000e+00 3.00000e-01 9.00000e-02]\n",
            " [1.00000e+00 3.50000e-01 1.22500e-01]\n",
            " [1.00000e+00 4.00000e-01 1.60000e-01]\n",
            " [1.00000e+00 4.50000e-01 2.02500e-01]\n",
            " [1.00000e+00 5.00000e-01 2.50000e-01]\n",
            " [1.00000e+00 5.50000e-01 3.02500e-01]\n",
            " [1.00000e+00 6.00000e-01 3.60000e-01]\n",
            " [1.00000e+00 6.50000e-01 4.22500e-01]\n",
            " [1.00000e+00 7.00000e-01 4.90000e-01]\n",
            " [1.00000e+00 7.50000e-01 5.62500e-01]\n",
            " [1.00000e+00 8.00000e-01 6.40000e-01]\n",
            " [1.00000e+00 8.50000e-01 7.22500e-01]\n",
            " [1.00000e+00 9.00000e-01 8.10000e-01]\n",
            " [1.00000e+00 9.50000e-01 9.02500e-01]\n",
            " [1.00000e+00 1.00000e+00 1.00000e+00]\n",
            " [1.00000e+00 1.05000e+00 1.10250e+00]\n",
            " [1.00000e+00 1.10000e+00 1.21000e+00]\n",
            " [1.00000e+00 1.15000e+00 1.32250e+00]\n",
            " [1.00000e+00 1.20000e+00 1.44000e+00]\n",
            " [1.00000e+00 1.25000e+00 1.56250e+00]\n",
            " [1.00000e+00 1.30000e+00 1.69000e+00]\n",
            " [1.00000e+00 1.35000e+00 1.82250e+00]\n",
            " [1.00000e+00 1.40000e+00 1.96000e+00]\n",
            " [1.00000e+00 1.45000e+00 2.10250e+00]\n",
            " [1.00000e+00 1.50000e+00 2.25000e+00]\n",
            " [1.00000e+00 1.55000e+00 2.40250e+00]\n",
            " [1.00000e+00 1.60000e+00 2.56000e+00]\n",
            " [1.00000e+00 1.65000e+00 2.72250e+00]\n",
            " [1.00000e+00 1.70000e+00 2.89000e+00]\n",
            " [1.00000e+00 1.75000e+00 3.06250e+00]\n",
            " [1.00000e+00 1.80000e+00 3.24000e+00]\n",
            " [1.00000e+00 1.85000e+00 3.42250e+00]\n",
            " [1.00000e+00 1.90000e+00 3.61000e+00]\n",
            " [1.00000e+00 1.95000e+00 3.80250e+00]\n",
            " [1.00000e+00 2.00000e+00 4.00000e+00]\n",
            " [1.00000e+00 2.05000e+00 4.20250e+00]\n",
            " [1.00000e+00 2.10000e+00 4.41000e+00]\n",
            " [1.00000e+00 2.15000e+00 4.62250e+00]\n",
            " [1.00000e+00 2.20000e+00 4.84000e+00]\n",
            " [1.00000e+00 2.25000e+00 5.06250e+00]\n",
            " [1.00000e+00 2.30000e+00 5.29000e+00]\n",
            " [1.00000e+00 2.35000e+00 5.52250e+00]\n",
            " [1.00000e+00 2.40000e+00 5.76000e+00]\n",
            " [1.00000e+00 2.45000e+00 6.00250e+00]\n",
            " [1.00000e+00 2.50000e+00 6.25000e+00]\n",
            " [1.00000e+00 2.55000e+00 6.50250e+00]\n",
            " [1.00000e+00 2.60000e+00 6.76000e+00]\n",
            " [1.00000e+00 2.65000e+00 7.02250e+00]\n",
            " [1.00000e+00 2.70000e+00 7.29000e+00]\n",
            " [1.00000e+00 2.75000e+00 7.56250e+00]\n",
            " [1.00000e+00 2.80000e+00 7.84000e+00]\n",
            " [1.00000e+00 2.85000e+00 8.12250e+00]\n",
            " [1.00000e+00 2.90000e+00 8.41000e+00]\n",
            " [1.00000e+00 2.95000e+00 8.70250e+00]\n",
            " [1.00000e+00 3.00000e+00 9.00000e+00]\n",
            " [1.00000e+00 3.05000e+00 9.30250e+00]\n",
            " [1.00000e+00 3.10000e+00 9.61000e+00]\n",
            " [1.00000e+00 3.15000e+00 9.92250e+00]\n",
            " [1.00000e+00 3.20000e+00 1.02400e+01]\n",
            " [1.00000e+00 3.25000e+00 1.05625e+01]\n",
            " [1.00000e+00 3.30000e+00 1.08900e+01]\n",
            " [1.00000e+00 3.35000e+00 1.12225e+01]\n",
            " [1.00000e+00 3.40000e+00 1.15600e+01]\n",
            " [1.00000e+00 3.45000e+00 1.19025e+01]\n",
            " [1.00000e+00 3.50000e+00 1.22500e+01]\n",
            " [1.00000e+00 3.55000e+00 1.26025e+01]\n",
            " [1.00000e+00 3.60000e+00 1.29600e+01]\n",
            " [1.00000e+00 3.65000e+00 1.33225e+01]\n",
            " [1.00000e+00 3.70000e+00 1.36900e+01]\n",
            " [1.00000e+00 3.75000e+00 1.40625e+01]\n",
            " [1.00000e+00 3.80000e+00 1.44400e+01]\n",
            " [1.00000e+00 3.85000e+00 1.48225e+01]\n",
            " [1.00000e+00 3.90000e+00 1.52100e+01]\n",
            " [1.00000e+00 3.95000e+00 1.56025e+01]\n",
            " [1.00000e+00 4.00000e+00 1.60000e+01]\n",
            " [1.00000e+00 4.05000e+00 1.64025e+01]\n",
            " [1.00000e+00 4.10000e+00 1.68100e+01]\n",
            " [1.00000e+00 4.15000e+00 1.72225e+01]\n",
            " [1.00000e+00 4.20000e+00 1.76400e+01]\n",
            " [1.00000e+00 4.25000e+00 1.80625e+01]\n",
            " [1.00000e+00 4.30000e+00 1.84900e+01]\n",
            " [1.00000e+00 4.35000e+00 1.89225e+01]\n",
            " [1.00000e+00 4.40000e+00 1.93600e+01]\n",
            " [1.00000e+00 4.45000e+00 1.98025e+01]\n",
            " [1.00000e+00 4.50000e+00 2.02500e+01]\n",
            " [1.00000e+00 4.55000e+00 2.07025e+01]\n",
            " [1.00000e+00 4.60000e+00 2.11600e+01]\n",
            " [1.00000e+00 4.65000e+00 2.16225e+01]\n",
            " [1.00000e+00 4.70000e+00 2.20900e+01]\n",
            " [1.00000e+00 4.75000e+00 2.25625e+01]\n",
            " [1.00000e+00 4.80000e+00 2.30400e+01]\n",
            " [1.00000e+00 4.85000e+00 2.35225e+01]\n",
            " [1.00000e+00 4.90000e+00 2.40100e+01]\n",
            " [1.00000e+00 4.95000e+00 2.45025e+01]]\n"
          ]
        }
      ]
    },
    {
      "cell_type": "markdown",
      "metadata": {
        "id": "vTVz_4rDeI0Z"
      },
      "source": [
        "---"
      ]
    },
    {
      "cell_type": "markdown",
      "metadata": {
        "id": "FsitQ7T9eI0Z"
      },
      "source": [
        "### 問4. 線形代数\n",
        "\n",
        "観測値 `x, t` をもとに真の関数 `y` を2次関数で回帰しなさい．\n",
        "\n",
        "任意の2次関数は $y(x) = w_0 + w_1 x + w_2 x^2$ と表すことができます．  \n",
        "なので，パラメータのベクトル $\\mathbf{w} = (w_0, w_1, w_2)$ を求めれば良いことになります．\n",
        "\n",
        "これは以下の正規方程式から求めることができます．\n",
        "\n",
        "$ \\mathbf{w} = (X^T X)^{-1} X^T \\mathbf{t} $\n",
        "\n",
        "この式の導出はdev_data勉強会で学びます．\n",
        "\n",
        "行列の積が多い場合は`np.dot`を使わない方が簡潔に書けます．"
      ]
    },
    {
      "cell_type": "code",
      "metadata": {
        "id": "0TTGiBdfeI0a"
      },
      "source": [
        "w0, w1, w2 = np.linalg.inv(X_T@X)@X_T@t\n",
        "pred_y = w0 + w1 * x + w2 * x ** 2"
      ],
      "execution_count": 56,
      "outputs": []
    },
    {
      "cell_type": "markdown",
      "metadata": {
        "id": "A3N62PQdeI0a"
      },
      "source": [
        "---"
      ]
    },
    {
      "cell_type": "markdown",
      "metadata": {
        "id": "5AB-JrCWeI0a"
      },
      "source": [
        "### 結果\n",
        "\n",
        "先ほどのグラフに真の関数(緑)と回帰曲線(赤)を重ねると以下のようになります．"
      ]
    },
    {
      "cell_type": "code",
      "metadata": {
        "id": "jmIqb9YSeI0a",
        "colab": {
          "base_uri": "https://localhost:8080/",
          "height": 283
        },
        "outputId": "6f9c2e4e-f6ab-4bdc-8962-dda6d14b6996"
      },
      "source": [
        "plt.scatter(x, t)\n",
        "plt.plot(x, pred_y, linewidth=5, color=\"red\", label=\"pred\")\n",
        "plt.plot(x, y(x), linewidth=5, color=\"green\", label=\"true\")\n",
        "plt.legend()"
      ],
      "execution_count": 49,
      "outputs": [
        {
          "output_type": "execute_result",
          "data": {
            "text/plain": [
              "<matplotlib.legend.Legend at 0x7f61042e74f0>"
            ]
          },
          "metadata": {},
          "execution_count": 49
        },
        {
          "output_type": "display_data",
          "data": {
            "text/plain": [
              "<Figure size 432x288 with 1 Axes>"
            ],
            "image/png": "[encoded data removed]"
          },
          "metadata": {
            "needs_background": "light"
          }
        }
      ]
    },
    {
      "cell_type": "markdown",
      "metadata": {
        "id": "zyYubGoPeI0b"
      },
      "source": [
        "今回使った手法は 真の関数 `y` の定義を変更するとその他のコードを全く変更しなくても同様に回帰することができます．\n",
        "\n",
        "例えば以下のように変更したらその関数を回帰します．\n",
        "\n",
        "```python\n",
        "def y(x):\n",
        "    \"\"\"真の関数\"\"\"\n",
        "    return 5 * np.sin(np.pi * x / 5)\n",
        "```\n",
        "dev_data勉強会で詳しくやりますが，この回帰曲線の表現力は2次までです．\n",
        "カーブが2つ以上の曲線を回帰したい場合は問3の計画行列の列数を　`x3, x4...`　のように増やせば表現力が上がります．"
      ]
    },
    {
      "cell_type": "code",
      "metadata": {
        "id": "D2wSS_WReI0b"
      },
      "source": [],
      "execution_count": null,
      "outputs": []
    }
  ]
}